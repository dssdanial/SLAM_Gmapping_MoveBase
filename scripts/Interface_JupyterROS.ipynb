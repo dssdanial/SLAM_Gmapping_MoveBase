{
 "cells": [
  {
   "cell_type": "markdown",
   "id": "18541f75",
   "metadata": {},
   "source": [
    "# Jupyter interface for a ROS-based MobileRobot Navigation \n"
   ]
  },
  {
   "cell_type": "code",
   "execution_count": null,
   "id": "3f12340c",
   "metadata": {},
   "outputs": [],
   "source": []
  },
  {
   "cell_type": "markdown",
   "id": "e468528a",
   "metadata": {},
   "source": [
    "## Neccessary Libraries and initial Variables"
   ]
  },
  {
   "cell_type": "code",
   "execution_count": 1,
   "id": "7ebb3514",
   "metadata": {
    "ExecuteTime": {
     "end_time": "2023-06-11T00:29:55.072751Z",
     "start_time": "2023-06-11T00:29:54.369555Z"
    }
   },
   "outputs": [],
   "source": [
    "import rospy\n",
    "from std_srvs.srv import Empty\n",
    "from IPython.display import clear_output\n",
    "from ipywidgets import Button, Layout, ButtonStyle, GridBox, VBox, HBox, widgets, Text\n",
    "from sensor_msgs.msg import LaserScan\n",
    "from move_base_msgs.msg import MoveBaseActionGoal\n",
    "from actionlib_msgs.msg import GoalStatusArray, GoalID\n",
    "import random\n",
    "from geometry_msgs.msg import Twist\n",
    "import matplotlib.pyplot as plt\n",
    "from nav_msgs.msg import Odometry\n",
    "from matplotlib.animation import FuncAnimation\n",
    "from collections import deque\n",
    "import tf\n",
    "from tf.transformations import quaternion_matrix\n",
    "import numpy as np\n",
    "\n",
    "\n",
    "#### Initial variables\n",
    "pub_cmd = rospy.Publisher(\"/cmd_vel\", Twist, queue_size = 1)\n",
    "\n",
    "\n",
    "# Global variables\n",
    "global goal,goal_running,goal__id, goal_missed, goal_reached, cmd_vel, Obs_en_flag\n",
    "\n",
    "goal_missed=0\n",
    "goal_reached=0\n",
    "goal_running=False\n",
    "Obs_en_flag=False\n",
    "\n",
    "goal = MoveBaseActionGoal()\n",
    "cmd_vel = Twist()\n",
    "\n",
    "reset=Empty()"
   ]
  },
  {
   "cell_type": "markdown",
   "id": "5e02ce2f",
   "metadata": {},
   "source": [
    "# Buttons definition"
   ]
  },
  {
   "cell_type": "code",
   "execution_count": 2,
   "id": "d2473102",
   "metadata": {
    "ExecuteTime": {
     "end_time": "2023-06-11T00:29:58.509528Z",
     "start_time": "2023-06-11T00:29:58.317011Z"
    }
   },
   "outputs": [],
   "source": [
    "output = widgets.Output()\n",
    "\n",
    "b1 = Button(description='Atonomous Drive(Movebase)',\n",
    "                          tooltip='Click to set a position',\n",
    "                          layout=Layout(width='250px', height='100px', grid_area='b1'),\n",
    "                          button_style='info',\n",
    "                          style={'button_color': 'blueviolet', 'font_weight': 'bold'})\n",
    "b2 = Button(description='Manually drive(keyboard)',\n",
    "                          tooltip='Click to move the robot',\n",
    "                          layout=Layout(width='250px', height='100px', grid_area='b2'),\n",
    "                          button_style='info',\n",
    "                           style={'button_color': 'darkmagenta', 'font_weight': 'bold'})\n",
    "#b3=Button(description='Enable Obstacles Avoidance',\n",
    "#                          tooltip='Click to the Assistance',\n",
    "#                          layout=Layout(width='250px', height='100px', grid_area='b3'),\n",
    "#                          button_style='info',\n",
    "#                           style={'button_color': 'darkseagreen', 'font_weight': 'bold'})\n",
    "\n",
    "b3 = widgets.ToggleButton(description='Enable/Disable Obstacles Avoidance', button_style='success')\n",
    "\n",
    "\n",
    "\n",
    "b4=Button(description='Reset',\n",
    "                          tooltip='Click to reset',\n",
    "                          layout=Layout(width='250px', height='100px', grid_area='b4'),\n",
    "                          button_style='info',\n",
    "                           style={'button_color': 'olive', 'font_weight': 'bold'})\n",
    "b5 = Button(description='Exit',\n",
    "                          tooltip='Click to exit the interface',\n",
    "                          layout=Layout(width='250px', height='100px', grid_area='b5'),\n",
    "                          button_style='info',\n",
    "                          style={'button_color': 'darkslateblue', 'font_weight': 'bold'})\n",
    "buttons = VBox([b1, b2, b3, b4, b5 ])\n",
    "\n",
    "\n",
    "############################################ Buttons in the autonomous mode#####################\n",
    "\n",
    "send_goal_button = Button(description='Send the goal',\n",
    "                          tooltip='Click to send the goal',\n",
    "                          layout=Layout(width='60%', height='80px', grid_area='b1'),\n",
    "                          button_style='info',\n",
    "                          style={'button_color': 'lightblue'})\n",
    "\n",
    "stop_button = Button(description='Stop',\n",
    "                          tooltip='Click to stop the robot',\n",
    "                          layout=Layout(width='60%', height='120px', grid_area='b2'),\n",
    "                          button_style='danger')\n",
    "back_menu_button = widgets.Button(description='cancel & Back to MENU',\n",
    "                          tooltip='Click to go back to the MENU',\n",
    "                          layout=Layout(width='70%', height='100px', grid_area='b2'),\n",
    "                          style={'button_color': 'coral', 'font_weight': 'bold'})\n",
    "\n",
    "new_goal_button = Button(description='Yes',\n",
    "                          tooltip='Set another x and y',\n",
    "                          layout=Layout(width='60%', height='120px', grid_area='b1'),\n",
    "                          button_style='info')\n",
    "\n",
    "x = widgets.FloatText(\n",
    "    value=0,\n",
    "    description='X:',\n",
    "    disabled=False\n",
    ")\n",
    "\n",
    "y = widgets.FloatText(\n",
    "    value=0,\n",
    "    description='Y:',\n",
    "    disabled=False\n",
    ")\n",
    "############################################ Manual Drive Buttons #####################\n",
    "# Velocity Controls\n",
    "global linear_slider, angular_slider \n",
    "velocity_label = widgets.Label(value=\"Velocities:\")\n",
    "linear_slider = widgets.FloatSlider(min=0.0, max=5.0, step=0.5, description=\"Linear Velocity:\",disabled=False, continuous_update=False)\n",
    "angular_slider = widgets.FloatSlider(min=0.0, max=2.0, step=0.5, description=\"Angular Velocity:\",disabled=False, continuous_update=False)\n",
    "\n",
    "\n",
    "increase_linear_button = widgets.Button(description=\"Increase Linear\")\n",
    "decrease_linear_button = widgets.Button(description=\"Decrease Linear\")\n",
    "increase_angular_button = widgets.Button(description=\"Increase Angular\")\n",
    "decrease_angular_button = widgets.Button(description=\"Decrease Angular\")\n",
    "\n",
    "stop_button_manual = widgets.Button(description=\"Stop\")\n",
    "\n",
    "# Navigation Keypad\n",
    "right_button =widgets.Button(description='Turn Right',\n",
    "                          tooltip='Click to Turn Right',\n",
    "                          button_style='info',\n",
    "                          style={'button_color': 'blueviolet', 'font_weight': 'bold'})\n",
    "\n",
    "left_button =widgets.Button(description='Turn Left',\n",
    "                          tooltip='Click to Turn Left',\n",
    "                          button_style='info',\n",
    "                          style={'button_color': 'blue', 'font_weight': 'bold'})\n",
    "\n",
    "forward_button =widgets.Button(description='Go straight',\n",
    "                          tooltip='Click to move forward',\n",
    "                          button_style='info',\n",
    "                          style={'button_color': 'coral', 'font_weight': 'bold'})\n",
    "\n",
    "backward_button =widgets.Button(description='Go Backward',\n",
    "                          tooltip='Click to move back',\n",
    "                          button_style='info',\n",
    "                          style={'button_color': 'gray', 'font_weight': 'bold'})\n",
    "\n",
    "############################ Display the buttons ####################################\n",
    "New_input_box=HBox([new_goal_button, back_menu_button])\n",
    "Input_position_box= HBox([x, y])\n",
    "\n",
    "# Display the sidebar and keypad\n",
    "sidebar = widgets.VBox([velocity_label, linear_slider, angular_slider])\n",
    "\n",
    "keypad = widgets.GridBox([forward_button, left_button, backward_button,\n",
    "                          right_button, back_menu_button, stop_button_manual],\n",
    "                          layout=widgets.Layout(grid_template_columns=\"repeat(2, 150px)\",\n",
    "                                                grid_gap=\"50px\"))"
   ]
  },
  {
   "cell_type": "code",
   "execution_count": null,
   "id": "1da9d6bf",
   "metadata": {},
   "outputs": [],
   "source": []
  },
  {
   "cell_type": "markdown",
   "id": "18e1ca4b",
   "metadata": {},
   "source": [
    "### Functions for buttons"
   ]
  },
  {
   "cell_type": "code",
   "execution_count": 3,
   "id": "7b89d09b",
   "metadata": {
    "ExecuteTime": {
     "end_time": "2023-06-11T00:30:02.889494Z",
     "start_time": "2023-06-11T00:30:02.870001Z"
    },
    "scrolled": true
   },
   "outputs": [],
   "source": [
    "    \n",
    "def Movebase_navigation(button):\n",
    "    global x, y, goal_running\n",
    "    clear_output(wait=True)\n",
    "\n",
    "    display(Input_position_box)\n",
    "    display(send_goal_button)\n",
    "\n",
    "    \n",
    "def keyboard_manually_drive(button):\n",
    "    clear_output(wait=True)\n",
    "    display(widgets.HBox([keypad]))\n",
    "    display(widgets.VBox([\n",
    "    linear_slider,\n",
    "    angular_slider,\n",
    "    increase_linear_button,\n",
    "    decrease_linear_button,\n",
    "    increase_angular_button,\n",
    "    decrease_angular_button\n",
    "]))\n",
    "    \n",
    "    \n",
    "def Enable_Obstacles_Avoidance(button):\n",
    "    global Obs_en_flag\n",
    "    if button.new:\n",
    "        Obs_en_flag=True\n",
    "        laser_clbkfcn \n",
    "        print(\"Enabled\")\n",
    "    else:\n",
    "        print(\"Dsiabled\")\n",
    "    \n",
    "    \n",
    "    \n",
    "    \n",
    "def reset_simulation(button):\n",
    "    rospy.wait_for_service('/gazebo/reset_simulation')\n",
    "    try:\n",
    "        reset_simulation = rospy.ServiceProxy('/gazebo/reset_simulation', reset)\n",
    "        reset_simulation()\n",
    "    except rospy.ServiceException as e:\n",
    "        print(\"Service call failed:\", e)\n",
    "\n",
    "def exit_program(button):\n",
    "    clear_output()\n",
    "\n",
    "##################################################### For Manual Driving #############################\n",
    "\n",
    "\n",
    "def forward(b):\n",
    "    global Vx, Wz, cmd_vel\n",
    "    cmd_vel.angular.z = 0\n",
    "    cmd_vel.linear.x=1\n",
    "    pub_cmd.publish(cmd_vel)\n",
    "\n",
    "    \n",
    "def stop_manual(b):\n",
    "    global Vx, Wz, cmd_vel\n",
    "    cmd_vel.angular.z = 0\n",
    "    cmd_vel.linear.x=0\n",
    "    pub_cmd.publish(cmd_vel)\n",
    "    \n",
    "def right(b):\n",
    "    global Vx, Wz, cmd_vel\n",
    "    cmd_vel.angular.z = -1\n",
    "    cmd_vel.linear.x=0\n",
    "    pub_cmd.publish(cmd_vel)\n",
    "\n",
    "def left(b):\n",
    "    global Vx, Wz, cmd_vel\n",
    "    cmd_vel.angular.z = 1\n",
    "    cmd_vel.linear.x=0\n",
    "    pub_cmd.publish(cmd_vel)\n",
    "    \n",
    "def backward(b):\n",
    "    global Vx, Wz, cmd_vel\n",
    "    cmd_vel.angular.z = 0\n",
    "    cmd_vel.linear.x=-1\n",
    "    pub_cmd.publish(cmd_vel)\n",
    "\n",
    "def increase_angular(button):\n",
    "    global Vx, Wz, cmd_vel,linear_slider, angular_slider \n",
    "    angular_slider.value +=angular_slider.step\n",
    "    cmd_vel.angular.z = angular_slider.value\n",
    "    pub_cmd.publish(cmd_vel)\n",
    "\n",
    "def decrease_angular(change):\n",
    "    global Vx, Wz, cmd_vel,linear_slider, angular_slider \n",
    "    angular_slider.value -=angular_slider.step\n",
    "    cmd_vel.angular.z = angular_slider.value\n",
    "    pub_cmd.publish(cmd_vel)\n",
    "        \n",
    "\n",
    "    \n",
    "def increase_linear(change):\n",
    "    global Vx, Wz, cmd_vel,linear_slider \n",
    "    linear_slider.value += linear_slider.step\n",
    "    cmd_vel.linear.x = linear_slider.value\n",
    "    pub_cmd.publish(cmd_vel)\n",
    "\n",
    "def decrease_linear(change):\n",
    "    global Vx, Wz, cmd_vel,linear_slider \n",
    "    linear_slider.value -= linear_slider.step\n",
    "    cmd_vel.linear.x = linear_slider.value\n",
    "    pub_cmd.publish(cmd_vel)\n",
    "        \n",
    "\n",
    "\n",
    "  \n",
    "\n"
   ]
  },
  {
   "cell_type": "code",
   "execution_count": null,
   "id": "a1d83046",
   "metadata": {},
   "outputs": [],
   "source": []
  },
  {
   "cell_type": "markdown",
   "id": "6e48dcb7",
   "metadata": {},
   "source": [
    "## Callback Functions"
   ]
  },
  {
   "cell_type": "code",
   "execution_count": 4,
   "id": "f80768f9",
   "metadata": {
    "ExecuteTime": {
     "end_time": "2023-06-11T00:30:07.192710Z",
     "start_time": "2023-06-11T00:30:07.182914Z"
    }
   },
   "outputs": [],
   "source": [
    "\n",
    "def status_clbck_fcn(msg):\n",
    "    global goal_running, goal_reached, goal_missed, goal__id\n",
    "\n",
    "    if not goal_running:\n",
    "        return\n",
    "\n",
    "    switch_cases = {\n",
    "        # 3: SUCCEEDED: The goal reached.\n",
    "        3: {\n",
    "            'message': \"Goal has been reached\",\n",
    "            'success': True\n",
    "        },\n",
    "        # 4: ABORTED, The goal was aborted.\n",
    "        4: {\n",
    "            'message': \"Goal has not been reached\",\n",
    "            'success': False\n",
    "        }\n",
    "    }\n",
    "\n",
    "    if msg.status_list[0].goal_id.id == str(goal__id):\n",
    "        state_flag = msg.status_list[0].status\n",
    "    else:\n",
    "        return\n",
    "\n",
    "    # For visualization part\n",
    "    case = switch_cases.get(state_flag)\n",
    "\n",
    "    # Return if state_flag doesn't match any cases\n",
    "    if not case:\n",
    "        return\n",
    "\n",
    "    clear_output(wait=True)\n",
    "    print(case['message'])\n",
    "\n",
    "    if case['success']:\n",
    "        goal_reached += 1\n",
    "        goal_running = True\n",
    "    else:\n",
    "        goal_missed += 1\n",
    "        goal_running = False\n",
    "\n",
    "    print(\"Another goal?\")\n",
    "    display(New_input_box)\n",
    "\n",
    "    \n",
    "    \n",
    "def laser_clbkfcn(msg):\n",
    "    global cmd_vel, Obs_en_flag\n",
    "    \n",
    "    # Return if the flag is not set\n",
    "    if not Obs_en_flag:\n",
    "        return\n",
    "\n",
    "    dis_threshould = 1\n",
    "    # Using list comprehensions to get the range data for the walls\n",
    "    front_wall = min(msg.ranges[i] for i in range(290, 450) if msg.ranges[i] < 100)\n",
    "    right_wall = min(msg.ranges[i] for i in range(0, 160) if msg.ranges[i] < 100)\n",
    "    left_wall = min(msg.ranges[i] for i in range(559, 719) if msg.ranges[i] < 100)\n",
    "\n",
    "    # Reducing the repetition in wall checking\n",
    "    # We can simply reset cmd_vel.angular.z to zero if any wall is detected\n",
    "    wall_detected = False\n",
    "\n",
    "    if front_wall < dis_threshould and cmd_vel.linear.x > 0:\n",
    "        cmd_vel.linear.x = 0\n",
    "        print(\"Front wall detected\")\n",
    "        wall_detected = True\n",
    "\n",
    "    if (right_wall < dis_threshould or left_wall < dis_threshould) and cmd_vel.angular.z > 0:\n",
    "        cmd_vel.angular.z = 0\n",
    "        print(\"Right wall detected\") if right_wall < dis_threshould else print(\"Left wall detected\")\n",
    "        wall_detected = True\n",
    "\n",
    "    # Publishing cmd_vel if a wall is detected\n",
    "    if wall_detected:\n",
    "        pub_cmd.publish(cmd_vel)\n",
    "\n",
    "    Obs_en_flag = False\n",
    "\n",
    "    \n",
    "    \n",
    "    "
   ]
  },
  {
   "cell_type": "markdown",
   "id": "c0bbaeba",
   "metadata": {},
   "source": [
    "## Functions for different tasks"
   ]
  },
  {
   "cell_type": "code",
   "execution_count": 5,
   "id": "a807cda8",
   "metadata": {
    "ExecuteTime": {
     "end_time": "2023-06-11T00:38:11.352925Z",
     "start_time": "2023-06-11T00:38:11.341824Z"
    }
   },
   "outputs": [],
   "source": [
    "def move_to_xy(button):\n",
    "    global goal, pub_goal, x, y,goal__id, goal_running\n",
    "    display(stop_button)\n",
    "    #print(\"Goal's coordinates: X=\", x.value,\", Y=\", y.value)\n",
    "    #display(cancel_goal_button)\n",
    "\n",
    "    goal_running=True\n",
    "    \n",
    "    goal__id = random.randint(0, 100000)\n",
    "    goal.goal.target_pose.pose.position.x = x.value\n",
    "    goal.goal.target_pose.pose.position.y = y.value\n",
    "    goal.goal.target_pose.pose.orientation.w = 1\n",
    "    goal.goal.target_pose.header.frame_id = \"map\"\n",
    "    goal.goal_id.id = str(goal__id)\n",
    "    pub_goal.publish(goal)\n",
    "    \n",
    "    #global total_goal\n",
    "    #total_goal += 1\n",
    "def stop(button):\n",
    "    global goal_running,goal__id\n",
    "    \n",
    "    clear_output(wait=True)\n",
    "    \n",
    "    stop_the_goal = GoalID()\n",
    "    stop_the_goal.id=str(goal__id)\n",
    "    pub_stop.publish(stop_the_goal)\n",
    "    \n",
    "    print(\"The goal is stopped!\")\n",
    "    goal_running = False\n",
    "    \n",
    "    print(\"Aanother goal?\")\n",
    "    \n",
    "    display(New_input_box)\n",
    "    \n",
    "    \n",
    "def back_to_menu(button):\n",
    "    clear_output(wait=True)\n",
    "    display(buttons)\n"
   ]
  },
  {
   "cell_type": "markdown",
   "id": "3bdd28e5",
   "metadata": {},
   "source": [
    "## Send commands to each buttons"
   ]
  },
  {
   "cell_type": "code",
   "execution_count": 9,
   "id": "f6b019bb",
   "metadata": {
    "ExecuteTime": {
     "end_time": "2023-06-11T00:38:13.240191Z",
     "start_time": "2023-06-11T00:38:13.234750Z"
    }
   },
   "outputs": [],
   "source": [
    "send_goal_button.on_click(move_to_xy)\n",
    "\n",
    "stop_button.on_click(stop)\n",
    "\n",
    "new_goal_button.on_click(Movebase_navigation)\n",
    "back_menu_button.on_click(back_to_menu)\n",
    "\n",
    "b1.on_click(Movebase_navigation)\n",
    "b2.on_click(keyboard_manually_drive)\n",
    "b3.observe(Enable_Obstacles_Avoidance, 'value')\n",
    "b4.on_click(reset_simulation)\n",
    "b5.on_click(exit_program)\n",
    "\n",
    "\n",
    "forward_button.on_click(forward)\n",
    "backward_button.on_click(backward)\n",
    "\n",
    "stop_button.on_click(stop)\n",
    "right_button.on_click(right)\n",
    "left_button.on_click(left)\n",
    "stop_button_manual.on_click(stop_manual)\n",
    "\n",
    "increase_linear_button.on_click(increase_linear)\n",
    "decrease_linear_button.on_click(decrease_linear)\n",
    "increase_angular_button.on_click(increase_angular)\n",
    "decrease_angular_button.on_click(decrease_angular)\n"
   ]
  },
  {
   "cell_type": "markdown",
   "id": "17a0771c",
   "metadata": {},
   "source": [
    "### ROS Initialization\n"
   ]
  },
  {
   "cell_type": "code",
   "execution_count": 10,
   "id": "5e9d4380",
   "metadata": {
    "ExecuteTime": {
     "end_time": "2023-06-11T00:30:12.695493Z",
     "start_time": "2023-06-11T00:30:12.548299Z"
    }
   },
   "outputs": [],
   "source": [
    "rospy.init_node('Jupyter_interface')\n",
    "pub_goal = rospy.Publisher('/move_base/goal', MoveBaseActionGoal, queue_size=1)\n",
    "pub_stop = rospy.Publisher(\"/move_base/cancel\", GoalID, queue_size = 1)\n",
    "rospy.Subscriber('/scan', LaserScan, laser_clbkfcn)\n"
   ]
  },
  {
   "cell_type": "markdown",
   "id": "37e556e4",
   "metadata": {
    "ExecuteTime": {
     "end_time": "2023-06-07T20:47:50.165526Z",
     "start_time": "2023-06-07T20:47:50.125003Z"
    }
   },
   "source": [
    "# Main function"
   ]
  },
  {
   "cell_type": "code",
   "execution_count": 11,
   "id": "2b325e7b",
   "metadata": {
    "ExecuteTime": {
     "end_time": "2023-06-11T00:38:15.922910Z",
     "start_time": "2023-06-11T00:38:15.914396Z"
    },
    "scrolled": true
   },
   "outputs": [],
   "source": [
    "\n",
    "rospy.Subscriber('/move_base/status', GoalStatusArray, status_clbck_fcn)\n",
    "display(buttons)\n"
   ]
  },
  {
   "cell_type": "markdown",
   "id": "bf00f65c",
   "metadata": {},
   "source": [
    "## Trajectory tracking Plots"
   ]
  },
  {
   "cell_type": "code",
   "execution_count": 11,
   "id": "4e6f9fb4",
   "metadata": {},
   "outputs": [
    {
     "data": {
      "image/png": "[encoded data removed]",
      "text/plain": [
       "<Figure size 640x480 with 1 Axes>"
      ]
     },
     "metadata": {},
     "output_type": "display_data"
    }
   ],
   "source": [
    "\n",
    "class OdometryVisualizer:\n",
    "    def __init__(self):\n",
    "        self.figure, self.axes = None, None\n",
    "        self.data_line = None\n",
    "        self.x_data_buffer, self.y_data_buffer = deque(maxlen=100), deque(maxlen=100)\n",
    "        self.is_initialized = False\n",
    "\n",
    "    def initialize_plot(self):\n",
    "        self.figure, self.axes = plt.subplots()\n",
    "        self.data_line, = self.axes.plot([], [], 'ro')\n",
    "        self.axes.set_xlim(-10, 10)\n",
    "        self.axes.set_ylim(-10, 10)\n",
    "        self.is_initialized = True\n",
    "        return self.data_line\n",
    "\n",
    "    def odometry_callback(self, msg: Odometry):\n",
    "        if not self.is_initialized:\n",
    "            self.initialize_plot()\n",
    "\n",
    "        self.y_data_buffer.append(msg.pose.pose.position.y)\n",
    "        self.x_data_buffer.append(msg.pose.pose.position.x)\n",
    "\n",
    "    def update_plot(self, frame: int):\n",
    "        self.data_line.set_data(self.x_data_buffer, self.y_data_buffer)\n",
    "        return self.data_line\n",
    "\n",
    "def main():\n",
    "    visualizer = OdometryVisualizer()\n",
    "    sub0 = rospy.Subscriber('/odom', Odometry, visualizer.odometry_callback)\n",
    "\n",
    "    while not visualizer.is_initialized:\n",
    "        pass\n",
    "\n",
    "    animation = FuncAnimation(visualizer.figure, visualizer.update_plot, init_func=visualizer.initialize_plot)\n",
    "\n",
    "    plt.show()\n",
    "\n",
    "if __name__ == \"__main__\":\n",
    "    main()\n"
   ]
  },
  {
   "cell_type": "markdown",
   "id": "db405ba3",
   "metadata": {},
   "source": [
    "## using ROS3d \n",
    "\n",
    "By using ROS3d you can add many visualizations to the viewer. ROS3D contains classes for a LaserScan, a Robot\n",
    "(URDFModel), occupancy grid (OccupancyGrid), regular and interactive markers (Marker and\n",
    "InteractiveMarker), Pose, Polygon, PoseArray, Path, and PointCloud."
   ]
  },
  {
   "cell_type": "code",
   "execution_count": null,
   "id": "49496d3f",
   "metadata": {},
   "outputs": [],
   "source": [
    "# from jupyros import ros3d\n",
    "\n",
    "# v = ros3d.Viewer()\n",
    "# rc = ros3d.ROSConnection(url=\"ws://localhost:9090\")\n",
    "# tf_client = ros3d.TFClient(ros=rc, fixed_frame='map')\n",
    "# laser_view = ros3d.LaserScan(topic=\"/scan\", ros=rc, tf_client=tf_client)\n",
    "# g = ros3d.GridModel()\n",
    "# v.objects = [g, laser_view]\n",
    "# v"
   ]
  },
  {
   "cell_type": "code",
   "execution_count": null,
   "id": "cb73124d",
   "metadata": {},
   "outputs": [],
   "source": []
  },
  {
   "cell_type": "code",
   "execution_count": 2,
   "id": "0898ada3",
   "metadata": {},
   "outputs": [],
   "source": []
  },
  {
   "cell_type": "markdown",
   "id": "86b413e3",
   "metadata": {},
   "source": [
    "## visualizing data published in a ROS topic"
   ]
  },
  {
   "cell_type": "code",
   "execution_count": 18,
   "id": "55513d79",
   "metadata": {},
   "outputs": [
    {
     "data": {
      "image/png": "[encoded data removed]",
      "text/plain": [
       "<Figure size 640x480 with 1 Axes>"
      ]
     },
     "metadata": {},
     "output_type": "display_data"
    }
   ],
   "source": [
    "class Visualiser:\n",
    "    def __init__(self):\n",
    "        self.fig, self.ax = plt.subplots()\n",
    "        self.ln, = plt.plot([], [], 'ro')\n",
    "        self.x_data, self.y_data = [] , []\n",
    "    def plot_init(self):\n",
    "        self.ax.set_xlim(-10, 10)\n",
    "        self.ax.set_ylim(-10, 10)\n",
    "        return self.ln\n",
    "    def odom_callback(self, msg):\n",
    "        self.y_data.append(msg.pose.pose.position.y)\n",
    "        self.x_data.append(msg.pose.pose.position.x)\n",
    "    def update_plot(self, frame):\n",
    "        self.ln.set_data(self.x_data, self.y_data)\n",
    "        return self.ln\n",
    "\n",
    "vis = Visualiser()\n",
    "sub = rospy.Subscriber('/odom', Odometry, vis.odom_callback)\n",
    "ani = FuncAnimation(vis.fig, vis.update_plot, init_func=vis.plot_init)\n",
    "plt.show(block=True)"
   ]
  },
  {
   "cell_type": "code",
   "execution_count": null,
   "id": "26f53ecd",
   "metadata": {},
   "outputs": [],
   "source": []
  }
 ],
 "metadata": {
  "kernelspec": {
   "display_name": "Python 3 (ipykernel)",
   "language": "python",
   "name": "python3"
  },
  "language_info": {
   "codemirror_mode": {
    "name": "ipython",
    "version": 3
   },
   "file_extension": ".py",
   "mimetype": "text/x-python",
   "name": "python",
   "nbconvert_exporter": "python",
   "pygments_lexer": "ipython3",
   "version": "3.8.10"
  },
  "toc": {
   "base_numbering": 1,
   "nav_menu": {},
   "number_sections": true,
   "sideBar": true,
   "skip_h1_title": false,
   "title_cell": "Table of Contents",
   "title_sidebar": "Contents",
   "toc_cell": false,
   "toc_position": {},
   "toc_section_display": true,
   "toc_window_display": false
  },
  "varInspector": {
   "cols": {
    "lenName": 16,
    "lenType": 16,
    "lenVar": 40
   },
   "kernels_config": {
    "python": {
     "delete_cmd_postfix": "",
     "delete_cmd_prefix": "del ",
     "library": "var_list.py",
     "varRefreshCmd": "print(var_dic_list())"
    },
    "r": {
     "delete_cmd_postfix": ") ",
     "delete_cmd_prefix": "rm(",
     "library": "var_list.r",
     "varRefreshCmd": "cat(var_dic_list()) "
    }
   },
   "types_to_exclude": [
    "module",
    "function",
    "builtin_function_or_method",
    "instance",
    "_Feature"
   ],
   "window_display": false
  }
 },
 "nbformat": 4,
 "nbformat_minor": 5
}
